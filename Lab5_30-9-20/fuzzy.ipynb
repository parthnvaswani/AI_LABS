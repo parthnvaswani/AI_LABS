{
 "metadata": {
  "language_info": {
   "codemirror_mode": {
    "name": "ipython",
    "version": 3
   },
   "file_extension": ".py",
   "mimetype": "text/x-python",
   "name": "python",
   "nbconvert_exporter": "python",
   "pygments_lexer": "ipython3",
   "version": "3.8.2-final"
  },
  "orig_nbformat": 2,
  "kernelspec": {
   "name": "Python 3.8.2 64-bit",
   "display_name": "Python 3.8.2 64-bit",
   "metadata": {
    "interpreter": {
     "hash": "08b64dc7e9099eac269fb18b5d824c195a782a2ed4ec34aad5d0bbbc3d697e62"
    }
   }
  }
 },
 "nbformat": 4,
 "nbformat_minor": 2,
 "cells": [
  {
   "source": [
    "# Operations on Fuzzy Set with Code :"
   ],
   "cell_type": "markdown",
   "metadata": {}
  },
  {
   "source": [
    "## 1. Union :\n",
    "\n",
    "Consider 2 Fuzzy Sets denoted by A and B, then let’s consider Y be the Union of them, then for every member of A and B, Y will be:\n",
    "\n",
    ">degree_of_membership(Y)= max(degree_of_membership(A), degree_of_membership(B))\n",
    "\n",
    "<br/><br/>EXAMPLE :\n",
    "\n",
    "Example to Demonstrate the Union of Two Fuzzy Sets "
   ],
   "cell_type": "markdown",
   "metadata": {}
  },
  {
   "cell_type": "code",
   "execution_count": 1,
   "metadata": {
    "tags": []
   },
   "outputs": [
    {
     "output_type": "stream",
     "name": "stdout",
     "text": "The First Fuzzy Set is : {'a': 0.2, 'b': 0.3, 'c': 0.6, 'd': 0.6}\nThe Second Fuzzy Set is : {'a': 0.9, 'b': 0.9, 'c': 0.4, 'd': 0.5}\nFuzzy Set Union is : {'a': 0.9, 'b': 0.9, 'c': 0.6, 'd': 0.6}\n"
    }
   ],
   "source": [
    "Y = {}\n",
    "A = {\"a\": 0.2, \"b\": 0.3, \"c\": 0.6, \"d\": 0.6} \n",
    "B = {\"a\": 0.9, \"b\": 0.9, \"c\": 0.4, \"d\": 0.5} \n",
    "\n",
    "print('The First Fuzzy Set is :', A) \n",
    "print('The Second Fuzzy Set is :', B) \n",
    "\n",
    "for A_key, B_key in zip(A, B): \n",
    "    A_value = A[A_key]\n",
    "    B_value = B[B_key] \n",
    "    if A_value > B_value: \n",
    "        Y[A_key] = A_value \n",
    "    else: \n",
    "        Y[B_key] = B_value \n",
    "\n",
    "print('Fuzzy Set Union is :', Y)"
   ]
  },
  {
   "source": [
    "## 2. Intersection :\n",
    "\n",
    "Consider 2 Fuzzy Sets denoted by A and B, then let’s consider Y be the Intersection of them, then for every member of A and B, Y will be:\n",
    "\n",
    ">degree_of_membership(Y)= min(degree_of_membership(A), degree_of_membership(B))\n",
    "\n",
    "<br/><br/>EXAMPLE :\n",
    "\n",
    "Example to Demonstrate Intersection of Two Fuzzy Sets "
   ],
   "cell_type": "markdown",
   "metadata": {}
  },
  {
   "cell_type": "code",
   "execution_count": 2,
   "metadata": {
    "tags": []
   },
   "outputs": [
    {
     "output_type": "stream",
     "name": "stdout",
     "text": "The First Fuzzy Set is : {'a': 0.2, 'b': 0.3, 'c': 0.6, 'd': 0.6}\nThe Second Fuzzy Set is : {'a': 0.9, 'b': 0.9, 'c': 0.4, 'd': 0.5}\nFuzzy Set Intersection is : {'a': 0.2, 'b': 0.3, 'c': 0.4, 'd': 0.5}\n"
    }
   ],
   "source": [
    "Y = {} \n",
    "A = {\"a\": 0.2, \"b\": 0.3, \"c\": 0.6, \"d\": 0.6} \n",
    "B = {\"a\": 0.9, \"b\": 0.9, \"c\": 0.4, \"d\": 0.5} \n",
    "\n",
    "print('The First Fuzzy Set is :', A) \n",
    "print('The Second Fuzzy Set is :', B)\n",
    "\n",
    "for A_key, B_key in zip(A, B): \n",
    "    A_value = A[A_key] \n",
    "    B_value = B[B_key] \n",
    "    if A_value < B_value: \n",
    "        Y[A_key] = A_value \n",
    "    else: \n",
    "        Y[B_key] = B_value \n",
    "\n",
    "print('Fuzzy Set Intersection is :', Y)"
   ]
  },
  {
   "source": [
    "## 3. Complement :\n",
    "\n",
    "Consider a Fuzzy Sets denoted by A , then let’s consider Y be the Complement of it, then for every member of A , Y will be:\n",
    "\n",
    ">degree_of_membership(Y)= 1 - degree_of_membership(A)\n",
    "\n",
    "<br/><br/>EXAMPLE :\n",
    "\n",
    "Example to Demonstrate the Complement of a Fuzzy Set "
   ],
   "cell_type": "markdown",
   "metadata": {}
  },
  {
   "cell_type": "code",
   "execution_count": 3,
   "metadata": {
    "tags": []
   },
   "outputs": [
    {
     "output_type": "stream",
     "name": "stdout",
     "text": "The Fuzzy Set is : {'a': 0.2, 'b': 0.3, 'c': 0.6, 'd': 0.6}\nFuzzy Set Complement is : {'a': 0.8, 'b': 0.7, 'c': 0.4, 'd': 0.4}\n"
    }
   ],
   "source": [
    "Y = {} \n",
    "A = {\"a\": 0.2, \"b\": 0.3, \"c\": 0.6, \"d\": 0.6} \n",
    "\n",
    "print('The Fuzzy Set is :', A) \n",
    "\n",
    "for A_key in A:\n",
    "    Y[A_key]= 1-A[A_key] \n",
    "\n",
    "print('Fuzzy Set Complement is :', Y)"
   ]
  },
  {
   "source": [
    "## 4. Difference : \n",
    "Consider 2 Fuzzy Sets denoted by A and B, then let’s consider Y be the Intersection of them, then for every member of A and B, Y will be:\n",
    "\n",
    ">degree_of_membership(Y)= min(degree_of_membership(A), 1- degree_of_membership(B))\n",
    "\n",
    "<br/><br/>EXAMPLE :\n",
    "\n",
    "Example to Demonstrate the Difference Between Two Fuzzy Sets \n"
   ],
   "cell_type": "markdown",
   "metadata": {}
  },
  {
   "cell_type": "code",
   "execution_count": 4,
   "metadata": {
    "tags": []
   },
   "outputs": [
    {
     "output_type": "stream",
     "name": "stdout",
     "text": "The First Fuzzy Set is : {'a': 0.2, 'b': 0.3, 'c': 0.6, 'd': 0.6}\nThe Second Fuzzy Set is : {'a': 0.9, 'b': 0.9, 'c': 0.4, 'd': 0.5}\nFuzzy Set Difference is : {'a': 0.09999999999999998, 'b': 0.09999999999999998, 'c': 0.6, 'd': 0.5}\n"
    }
   ],
   "source": [
    "Y = {} \n",
    "A = {\"a\": 0.2, \"b\": 0.3, \"c\": 0.6, \"d\": 0.6} \n",
    "B = {\"a\": 0.9, \"b\": 0.9, \"c\": 0.4, \"d\": 0.5} \n",
    "\n",
    "print('The First Fuzzy Set is :', A) \n",
    "print('The Second Fuzzy Set is :', B) \n",
    "\n",
    "for A_key, B_key in zip(A, B): \n",
    "    A_value = A[A_key] \n",
    "    B_value = B[B_key] \n",
    "    B_value = 1 - B_value \n",
    "    if A_value < B_value:\n",
    "        Y[A_key] = A_value \n",
    "    else: \n",
    "        Y[B_key] = B_value \n",
    "        \n",
    "print('Fuzzy Set Difference is :', Y)"
   ]
  }
 ]
}