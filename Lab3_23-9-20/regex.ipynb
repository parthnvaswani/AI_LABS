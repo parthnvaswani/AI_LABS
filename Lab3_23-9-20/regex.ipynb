{
 "metadata": {
  "language_info": {
   "codemirror_mode": {
    "name": "ipython",
    "version": 3
   },
   "file_extension": ".py",
   "mimetype": "text/x-python",
   "name": "python",
   "nbconvert_exporter": "python",
   "pygments_lexer": "ipython3",
   "version": "3.7.7-final"
  },
  "orig_nbformat": 2,
  "kernelspec": {
   "name": "python_defaultSpec_1600847502764",
   "display_name": "Python 3.7.7 64-bit"
  }
 },
 "nbformat": 4,
 "nbformat_minor": 2,
 "cells": [
  {
   "cell_type": "code",
   "execution_count": 1,
   "metadata": {
    "tags": []
   },
   "outputs": [
    {
     "output_type": "stream",
     "name": "stdout",
     "text": "<re.Match object; span=(0, 17), match='The rain in Spain'>\n"
    }
   ],
   "source": [
    "#Import the re module:\n",
    "import re\n",
    "\n",
    "#Search the string to see if it starts with \"The\" and ends with \"Spain\":\n",
    "txt = \"The rain in Spain\" \n",
    "x = re.search(\"^The.*Spain$\", txt)\n",
    "print(x)"
   ]
  },
  {
   "cell_type": "code",
   "execution_count": 2,
   "metadata": {
    "tags": []
   },
   "outputs": [
    {
     "output_type": "stream",
     "name": "stdout",
     "text": "['ai', 'ai']\n[]\n"
    }
   ],
   "source": [
    "#The findall() function returns a list containing all matches.\n",
    "txt = \"The rain in Spain\"\n",
    "x = re.findall(\"ai\", txt)\n",
    "print(x)\n",
    "\n",
    "#It returns an empty list if no match was found:\n",
    "txt = \"The rain in Spain\"\n",
    "x = re.findall(\"Portugal\", txt)\n",
    "print(x)\n",
    "\n"
   ]
  },
  {
   "cell_type": "code",
   "execution_count": 3,
   "metadata": {
    "tags": []
   },
   "outputs": [
    {
     "output_type": "stream",
     "name": "stdout",
     "text": "The first white-space character is located in position: 3\nNone\n"
    }
   ],
   "source": [
    "#The search() function searches the string for a match, and returns a Match object if there is a match.\n",
    "#If there is more than one match, only the first occurrence of the match will be returned:\n",
    "txt = \"The rain in Spain\"\n",
    "x = re.search(\"\\s\", txt)\n",
    "print(\"The first white-space character is located in position:\", x.start())\n",
    "\n",
    "#If no matches are found, the value None is returned:\n",
    "txt = \"The rain in Spain\"\n",
    "x = re.search(\"Portugal\", txt)\n",
    "print(x)"
   ]
  },
  {
   "cell_type": "code",
   "execution_count": 4,
   "metadata": {
    "tags": []
   },
   "outputs": [
    {
     "output_type": "stream",
     "name": "stdout",
     "text": "['The', 'rain', 'in', 'Spain']\n['The', 'rain in Spain']\n"
    }
   ],
   "source": [
    "#The split() function returns a list where the string has been split at each match:\n",
    "txt = \"The rain in Spain\"\n",
    "x = re.split(\"\\s\", txt)\n",
    "print(x)\n",
    "\n",
    "#You can control the number of occurrences by specifying the maxsplit parameter:\n",
    "txt = \"The rain in Spain\"\n",
    "x = re.split(\"\\s\", txt, 1)\n",
    "print(x)"
   ]
  },
  {
   "cell_type": "code",
   "execution_count": 5,
   "metadata": {
    "tags": []
   },
   "outputs": [
    {
     "output_type": "stream",
     "name": "stdout",
     "text": "The9rain9in9Spain\nThe9rain9in Spain\n"
    }
   ],
   "source": [
    "#The sub() function replaces the matches with the text of your choice:\n",
    "txt = \"The rain in Spain\"\n",
    "x = re.sub(\"\\s\", \"9\", txt)\n",
    "print(x)\n",
    "\n",
    "#You can control the number of replacements by specifying the count parameter:\n",
    "txt = \"The rain in Spain\"\n",
    "x = re.sub(\"\\s\", \"9\", txt, 2)\n",
    "print(x)"
   ]
  },
  {
   "cell_type": "code",
   "execution_count": 6,
   "metadata": {
    "tags": []
   },
   "outputs": [
    {
     "output_type": "stream",
     "name": "stdout",
     "text": "<re.Match object; span=(5, 7), match='ai'>\n(12, 17)\nThe rain in Spain\nSpain\n"
    }
   ],
   "source": [
    "#A Match Object is an object containing information about the search and the result.\n",
    "txt = \"The rain in Spain\"\n",
    "x = re.search(\"ai\", txt)\n",
    "print(x) #this will print an object\n",
    "\n",
    "# The Match object has properties and methods used to retrieve information about the search, and the result:\n",
    "# .span() returns a tuple containing the start-, and end positions of the match.\n",
    "# .string returns the string passed into the function\n",
    "# .group() returns the part of the string where there was a match\n",
    "txt = \"The rain in Spain\"\n",
    "x = re.search(r\"\\bS\\w+\", txt)\n",
    "print(x.span())\n",
    "\n",
    "txt = \"The rain in Spain\"\n",
    "x = re.search(r\"\\bS\\w+\", txt)\n",
    "print(x.string)\n",
    "\n",
    "txt = \"The rain in Spain\"\n",
    "x = re.search(r\"\\bS\\w+\", txt)\n",
    "print(x.group())"
   ]
  },
  {
   "source": [
    "# Exercises<br/>\n",
    "1.\tWrite a Python program to check that a string contains only a certain set of characters (in this case a-z, A-Z and 0-9)."
   ],
   "cell_type": "markdown",
   "metadata": {}
  },
  {
   "cell_type": "code",
   "execution_count": 7,
   "metadata": {
    "tags": []
   },
   "outputs": [
    {
     "output_type": "stream",
     "name": "stdout",
     "text": "True\nFalse\n"
    }
   ],
   "source": [
    "def is_allowed_specific_char(string):\n",
    "    charRe = re.compile('[^a-zA-Z0-9.]')\n",
    "    string = charRe.search(string)\n",
    "    return not bool(string)\n",
    "\n",
    "print(is_allowed_specific_char(\"ABCDEFabcdef123450\")) \n",
    "print(is_allowed_specific_char(\"*&%@#!}{\"))\n"
   ]
  },
  {
   "source": [
    "2.\tWrite a Python program that matches a string that has an a followed by zero or more b's."
   ],
   "cell_type": "markdown",
   "metadata": {}
  },
  {
   "cell_type": "code",
   "execution_count": 8,
   "metadata": {
    "tags": []
   },
   "outputs": [
    {
     "output_type": "stream",
     "name": "stdout",
     "text": "Found a match!\n"
    }
   ],
   "source": [
    "def text_match(text):\n",
    "    patterns = '^ab*'\n",
    "    if re.search(patterns,  text):\n",
    "        return 'Found a match!'\n",
    "    else:\n",
    "        return('Not matched!')\n",
    "\n",
    "print(text_match(\"a\"))"
   ]
  },
  {
   "source": [
    "2-1. Write a Python program that matches a string that has an a followed by one or more b's. "
   ],
   "cell_type": "markdown",
   "metadata": {}
  },
  {
   "cell_type": "code",
   "execution_count": 9,
   "metadata": {
    "tags": []
   },
   "outputs": [
    {
     "output_type": "stream",
     "name": "stdout",
     "text": "Not matched!\n"
    }
   ],
   "source": [
    "def text_match(text):\n",
    "    patterns = '^ab+'\n",
    "    if re.search(patterns,  text):\n",
    "        return 'Found a match!'\n",
    "    else:\n",
    "        return('Not matched!')\n",
    "\n",
    "print(text_match(\"a\"))"
   ]
  },
  {
   "source": [
    "3.\tWrite a Python program that matches a string that has an a followed by zero or one 'b'. "
   ],
   "cell_type": "markdown",
   "metadata": {}
  },
  {
   "cell_type": "code",
   "execution_count": 10,
   "metadata": {
    "tags": []
   },
   "outputs": [
    {
     "output_type": "stream",
     "name": "stdout",
     "text": "Found a match!\nFound a match!\nFound a match!\nFound a match!\n"
    }
   ],
   "source": [
    "def text_match(text):\n",
    "        patterns = 'ab?'\n",
    "        if re.search(patterns,  text):\n",
    "                return 'Found a match!'\n",
    "        else:\n",
    "                return('Not matched!')\n",
    "\n",
    "print(text_match(\"ab\"))\n",
    "print(text_match(\"abc\"))\n",
    "print(text_match(\"abbc\"))\n",
    "print(text_match(\"aabbc\"))"
   ]
  },
  {
   "source": [
    "4.\tWrite a Python program that matches a string that has an a followed by three 'b'."
   ],
   "cell_type": "markdown",
   "metadata": {}
  },
  {
   "cell_type": "code",
   "execution_count": 11,
   "metadata": {
    "tags": []
   },
   "outputs": [
    {
     "output_type": "stream",
     "name": "stdout",
     "text": "Found a match!\nNot matched!\n"
    }
   ],
   "source": [
    "def text_match(text):\n",
    "    patterns = '^abbb'\n",
    "    if re.search(patterns,  text):\n",
    "        return('Found a match!')\n",
    "    else:\n",
    "        return ('Not matched!')\n",
    "\n",
    "print(text_match(\"abbb\"))\n",
    "\n",
    "#or\n",
    "\n",
    "def text_match(text):\n",
    "    patterns = '^ab{3}'\n",
    "    if re.search(patterns,  text):\n",
    "        return('Found a match!')\n",
    "    else:\n",
    "        return ('Not matched!')\n",
    "\n",
    "print(text_match(\"aabba\"))\n"
   ]
  },
  {
   "source": [
    "5.\tWrite a Python program that matches a string that has an a followed by two to three 'b'. "
   ],
   "cell_type": "markdown",
   "metadata": {}
  },
  {
   "cell_type": "code",
   "execution_count": 12,
   "metadata": {
    "tags": []
   },
   "outputs": [
    {
     "output_type": "stream",
     "name": "stdout",
     "text": "Found a match!\n"
    }
   ],
   "source": [
    "def text_match(text):\n",
    "    patterns = '^ab{2,3}'\n",
    "    if re.search(patterns,  text):\n",
    "        return('Found a match!')\n",
    "    else:\n",
    "        return ('Not matched!')\n",
    "\n",
    "print(text_match(\"abb\"))"
   ]
  },
  {
   "source": [
    "6.\tWrite a Python program to find sequences of lowercase letters joined with a underscore"
   ],
   "cell_type": "markdown",
   "metadata": {}
  },
  {
   "cell_type": "code",
   "execution_count": 13,
   "metadata": {
    "tags": []
   },
   "outputs": [
    {
     "output_type": "stream",
     "name": "stdout",
     "text": "Found a match!\n"
    }
   ],
   "source": [
    "def text_match(text):\n",
    "    patterns = '^[a-z]+_[a-z]+$'\n",
    "    if re.search(patterns,  text):\n",
    "        return('Found a match!')\n",
    "    else:\n",
    "        return ('Not matched!')\n",
    "print(text_match(\"a_bb\"))"
   ]
  },
  {
   "source": [
    "7.\tWrite a Python program to find sequences of one upper case letter followed by lower case letters. "
   ],
   "cell_type": "markdown",
   "metadata": {}
  },
  {
   "cell_type": "code",
   "execution_count": 14,
   "metadata": {
    "tags": []
   },
   "outputs": [
    {
     "output_type": "stream",
     "name": "stdout",
     "text": "Not matched!\n"
    }
   ],
   "source": [
    "def text_match(text):\n",
    "    patterns = '^[A-Z]+[a-z]+$'\n",
    "    if re.search(patterns,  text):\n",
    "        return('Found a match!')\n",
    "    else:\n",
    "        return ('Not matched!')\n",
    "\n",
    "print(text_match(\"AbbC\"))"
   ]
  },
  {
   "source": [
    "8.\tWrite a Python program that matches a string that has an 'a' followed by anything, ending in 'b'. "
   ],
   "cell_type": "markdown",
   "metadata": {}
  },
  {
   "cell_type": "code",
   "execution_count": 15,
   "metadata": {
    "tags": []
   },
   "outputs": [
    {
     "output_type": "stream",
     "name": "stdout",
     "text": "Found a match!\n"
    }
   ],
   "source": [
    "def text_match(text):\n",
    "    patterns = '^a.*b$'\n",
    "    if re.search(patterns,  text):\n",
    "        return('Found a match!')\n",
    "    else:\n",
    "        return ('Not matched!')\n",
    "\n",
    "print(text_match(\"addZb\"))"
   ]
  },
  {
   "source": [
    "9.\tWrite a Python program that matches a word at the beginning of a string. "
   ],
   "cell_type": "markdown",
   "metadata": {}
  },
  {
   "cell_type": "code",
   "execution_count": 16,
   "metadata": {
    "tags": []
   },
   "outputs": [
    {
     "output_type": "stream",
     "name": "stdout",
     "text": "Found a match!\nNot matched!\n"
    }
   ],
   "source": [
    "def text_match(text):\n",
    "        patterns = '^\\w+'\n",
    "        if re.search(patterns,  text):\n",
    "                return 'Found a match!'\n",
    "        else:\n",
    "                return('Not matched!')\n",
    "\n",
    "print(text_match(\"The sun shines.\"))\n",
    "print(text_match(\" The sun shines.\"))"
   ]
  },
  {
   "source": [
    "10.\tWrite a Python program that matches a word at end of string, with optional punctuation. "
   ],
   "cell_type": "markdown",
   "metadata": {}
  },
  {
   "cell_type": "code",
   "execution_count": 17,
   "metadata": {
    "tags": []
   },
   "outputs": [
    {
     "output_type": "stream",
     "name": "stdout",
     "text": "Found a match!\nNot matched!\n"
    }
   ],
   "source": [
    "def text_match(text):\n",
    "        patterns = '\\w+\\S*$'\n",
    "        if re.search(patterns,  text):\n",
    "                return 'Found a match!'\n",
    "        else:\n",
    "                return('Not matched!')\n",
    "\n",
    "print(text_match(\"The sun shines.\"))\n",
    "print(text_match(\" The sun shines.  \"))"
   ]
  },
  {
   "source": [
    "11.\tWrite a Python program that matches a word containing 'z'."
   ],
   "cell_type": "markdown",
   "metadata": {}
  },
  {
   "cell_type": "code",
   "execution_count": 18,
   "metadata": {
    "tags": []
   },
   "outputs": [
    {
     "output_type": "stream",
     "name": "stdout",
     "text": "Found a match!\nNot matched!\n"
    }
   ],
   "source": [
    "def text_match(text):\n",
    "        patterns = '\\w*z.\\w*'\n",
    "        if re.search(patterns,  text):\n",
    "                return 'Found a match!'\n",
    "        else:\n",
    "                return('Not matched!')\n",
    "\n",
    "print(text_match(\"The suzn shines.\"))\n",
    "print(text_match(\" The sun shines.  \"))"
   ]
  },
  {
   "source": [
    "12.\tWrite a Python program that matches a word containing 'z', not start or end of the word."
   ],
   "cell_type": "markdown",
   "metadata": {}
  },
  {
   "cell_type": "code",
   "execution_count": 19,
   "metadata": {
    "tags": []
   },
   "outputs": [
    {
     "output_type": "stream",
     "name": "stdout",
     "text": "Found a match!\nNot matched!\n"
    }
   ],
   "source": [
    "def text_match(text):\n",
    "        patterns = '\\Bz\\B'\n",
    "        if re.search(patterns,  text):\n",
    "                return 'Found a match!'\n",
    "        else:\n",
    "                return('Not matched!')\n",
    "\n",
    "print(text_match(\"hi bye izen\"))\n",
    "print(text_match(\"zen bowling\"))"
   ]
  },
  {
   "source": [
    "13.\tWrite a Python program to match a string that contains only upper and lowercase letters, numbers, and underscores."
   ],
   "cell_type": "markdown",
   "metadata": {}
  },
  {
   "cell_type": "code",
   "execution_count": 20,
   "metadata": {
    "tags": []
   },
   "outputs": [
    {
     "output_type": "stream",
     "name": "stdout",
     "text": "Not matched!\nFound a match!\n"
    }
   ],
   "source": [
    "def text_match(text):\n",
    "        patterns = '^[a-zA-Z0-9_]*$'\n",
    "        if re.search(patterns,  text):\n",
    "                return 'Found a match!'\n",
    "        else:\n",
    "                return('Not matched!')\n",
    "\n",
    "print(text_match(\"hello hi\"))\n",
    "print(text_match(\"javascript_is_a_beautiful_language\"))"
   ]
  },
  {
   "source": [
    "14.\tWrite a Python program where a string will start with a specific number. "
   ],
   "cell_type": "markdown",
   "metadata": {}
  },
  {
   "cell_type": "code",
   "execution_count": 21,
   "metadata": {
    "tags": []
   },
   "outputs": [
    {
     "output_type": "stream",
     "name": "stdout",
     "text": "Found a match!\nNot matched!\n"
    }
   ],
   "source": [
    "import re\n",
    "def match_num(string):\n",
    "    text = re.compile(\"^7\")\n",
    "    if text.match(string):\n",
    "        return 'Found a match!'\n",
    "    else:\n",
    "        return ('Not matched!')\n",
    "print(match_num('78910'))\n",
    "print(match_num('5678910'))"
   ]
  },
  {
   "source": [
    "15.\tWrite a Python program to remove leading zeros from an IP address."
   ],
   "cell_type": "markdown",
   "metadata": {}
  },
  {
   "cell_type": "code",
   "execution_count": 22,
   "metadata": {
    "tags": []
   },
   "outputs": [
    {
     "output_type": "stream",
     "name": "stdout",
     "text": "217.7.740.128\n"
    }
   ],
   "source": [
    "ip = \"217.07.740.128\"\n",
    "string = re.sub('\\.0*', '.', ip)\n",
    "print(string)"
   ]
  },
  {
   "source": [
    "16.\tWrite a Python program to check for a number at the end of a string. "
   ],
   "cell_type": "markdown",
   "metadata": {}
  },
  {
   "cell_type": "code",
   "execution_count": 23,
   "metadata": {
    "tags": []
   },
   "outputs": [
    {
     "output_type": "stream",
     "name": "stdout",
     "text": "Not matched!\nFound a match!\n"
    }
   ],
   "source": [
    "def end_num(string):\n",
    "    text = re.compile(\".*[0-9]$\")\n",
    "    if text.match(string):\n",
    "        return 'Found a match!'\n",
    "    else:\n",
    "        return ('Not matched!')\n",
    "\n",
    "print(end_num('abcdef'))\n",
    "print(end_num('abcdef7'))"
   ]
  },
  {
   "source": [
    "17.\tWrite a Python program to search the numbers (0-9) of length between 1 to 3 in a given string. "
   ],
   "cell_type": "markdown",
   "metadata": {}
  },
  {
   "cell_type": "code",
   "execution_count": 24,
   "metadata": {
    "tags": []
   },
   "outputs": [
    {
     "output_type": "stream",
     "name": "stdout",
     "text": "Number of length 1 to 3\n7\n77\n777\n"
    }
   ],
   "source": [
    "import re\n",
    "results = re.finditer(\"([0-9]{1,3})\", \"hi bye number is 7, 77 and 777.\")\n",
    "print(\"Number of length 1 to 3\")\n",
    "for n in results:\n",
    "     print(n.group())"
   ]
  },
  {
   "source": [
    "18.\tWrite a Python program to search some literals strings in a string. <br/>\n",
    "Sample text : 'The quick brown fox jumps over the lazy dog.'<br/>\n",
    "Searched words : 'fox', 'dog', 'horse'\n"
   ],
   "cell_type": "markdown",
   "metadata": {}
  },
  {
   "cell_type": "code",
   "execution_count": 25,
   "metadata": {
    "tags": []
   },
   "outputs": [
    {
     "output_type": "stream",
     "name": "stdout",
     "text": "Matched!\nMatched!\nNot Matched!\n"
    }
   ],
   "source": [
    "patterns = [ 'fox', 'dog', 'horse' ]\n",
    "text = 'The quick brown fox jumps over the lazy dog.'\n",
    "for pattern in patterns:\n",
    "    if re.search(pattern,  text):\n",
    "        print('Matched!')\n",
    "    else:\n",
    "        print('Not Matched!')"
   ]
  },
  {
   "source": [
    "20. Write a Python program to replace whitespaces with an underscore and vice versa. "
   ],
   "cell_type": "markdown",
   "metadata": {}
  },
  {
   "cell_type": "code",
   "execution_count": 26,
   "metadata": {
    "tags": []
   },
   "outputs": [
    {
     "output_type": "stream",
     "name": "stdout",
     "text": "Python_Is_Awesome\nPython Is Awesome\n"
    }
   ],
   "source": [
    "text = 'Python Is Awesome'\n",
    "text =text.replace (\" \", \"_\")\n",
    "print(text)\n",
    "text =text.replace (\"_\", \" \")\n",
    "print(text)"
   ]
  },
  {
   "source": [
    "21. Write a Python program to find all words starting with 'a' or 'e' in a given string."
   ],
   "cell_type": "markdown",
   "metadata": {}
  },
  {
   "cell_type": "code",
   "execution_count": 27,
   "metadata": {
    "tags": []
   },
   "outputs": [
    {
     "output_type": "stream",
     "name": "stdout",
     "text": "['em', 'amet', 'ectetur', 'adipiscing', 'elit', 'am', 'aucibus', 'eque', 'elementum', 'equat', 'acinia', 'asellus', 'eu', 'ectus', 'ec', 'ass', 'aptent', 'aciti', 'ad', 'ent', 'er', 'er', 'eptos', 'enaeos']\n"
    }
   ],
   "source": [
    "text = \"Lorem ipsum dolor sit amet, consectetur adipiscing elit. Nam faucibus neque elementum consequat lacinia. Phasellus lobortis purus nisi, eu lobortis lectus dictum nec. Class aptent taciti sociosqu ad litora torquent per conubia nostra, per inceptos himenaeos.\"\n",
    "list = re.findall(\"[ae]\\w+\", text)\n",
    "print(list)"
   ]
  },
  {
   "source": [
    "22. Write a Python program to separate and print the numbers and their position of a given string. \n"
   ],
   "cell_type": "markdown",
   "metadata": {}
  },
  {
   "cell_type": "code",
   "execution_count": 28,
   "metadata": {
    "tags": []
   },
   "outputs": [
    {
     "output_type": "stream",
     "name": "stdout",
     "text": "20\nIndex position: 25\n"
    }
   ],
   "source": [
    "text = \"Hi my name is Parth.I am 20 years old.\"\n",
    "\n",
    "for m in re.finditer(\"\\d+\", text):\n",
    "    print(m.group())\n",
    "    print(\"Index position:\", m.start())"
   ]
  },
  {
   "source": [
    "23. Write a Python program to replace all occurrences of space, comma, or dot with a colon. "
   ],
   "cell_type": "markdown",
   "metadata": {}
  },
  {
   "cell_type": "code",
   "execution_count": 29,
   "metadata": {
    "tags": []
   },
   "outputs": [
    {
     "output_type": "stream",
     "name": "stdout",
     "text": "Python:is:awesome::i:love:python:\n"
    }
   ],
   "source": [
    "text = 'Python is awesome, i love python.'\n",
    "print(re.sub(\"[ ,.]\", \":\", text))"
   ]
  },
  {
   "source": [
    "24. Write a Python program to find all three, four, five characters long words in a string."
   ],
   "cell_type": "markdown",
   "metadata": {}
  },
  {
   "cell_type": "code",
   "execution_count": 30,
   "metadata": {
    "tags": []
   },
   "outputs": [
    {
     "output_type": "stream",
     "name": "stdout",
     "text": "['name', 'Parth', 'years', 'old']\n"
    }
   ],
   "source": [
    "text = 'Hi my name is Parth.I am 20 years old.'\n",
    "print(re.findall(r\"\\b\\w{3,5}\\b\", text))"
   ]
  },
  {
   "source": [
    "25. Write a Python program to find all words which are at least 4 characters long in a string."
   ],
   "cell_type": "markdown",
   "metadata": {}
  },
  {
   "cell_type": "code",
   "execution_count": 31,
   "metadata": {
    "tags": []
   },
   "outputs": [
    {
     "output_type": "stream",
     "name": "stdout",
     "text": "['name', 'Parth', 'years']\n"
    }
   ],
   "source": [
    "text = 'Hi my name is Parth.I am 20 years old.'\n",
    "print(re.findall(r\"\\b\\w{4,}\\b\", text))"
   ]
  },
  {
   "source": [
    "26. Write a Python program to remove all whitespaces from a string."
   ],
   "cell_type": "markdown",
   "metadata": {}
  },
  {
   "cell_type": "code",
   "execution_count": 32,
   "metadata": {
    "tags": []
   },
   "outputs": [
    {
     "output_type": "stream",
     "name": "stdout",
     "text": "HimynameisParth.Iam20yearsold.\n"
    }
   ],
   "source": [
    "text = 'Hi my name is Parth.I am 20 years old.'\n",
    "print(re.sub(r'\\s+', '',text))"
   ]
  },
  {
   "source": [
    "27. Write a Python program to remove everything except alphanumeric characters from a string. "
   ],
   "cell_type": "markdown",
   "metadata": {}
  },
  {
   "cell_type": "code",
   "execution_count": 33,
   "metadata": {
    "tags": []
   },
   "outputs": [
    {
     "output_type": "stream",
     "name": "stdout",
     "text": "Pythonisawesome1235\n"
    }
   ],
   "source": [
    "text = '/Python is awesome/ . * 1235'\n",
    "pattern = re.compile('\\W+')\n",
    "print(pattern.sub('', text))"
   ]
  },
  {
   "source": [
    "28. Write a Python program to split a string at uppercase letters."
   ],
   "cell_type": "markdown",
   "metadata": {}
  },
  {
   "cell_type": "code",
   "execution_count": 34,
   "metadata": {
    "tags": []
   },
   "outputs": [
    {
     "output_type": "stream",
     "name": "stdout",
     "text": "['Hi my name is ', 'Parth.', 'I am 20 years old.']\n"
    }
   ],
   "source": [
    "text = \"Hi my name is Parth.I am 20 years old.\"\n",
    "print(re.findall('[A-Z][^A-Z]*', text))"
   ]
  },
  {
   "source": [
    "29. Write a Python program to do a case-insensitive string replacement."
   ],
   "cell_type": "markdown",
   "metadata": {}
  },
  {
   "cell_type": "code",
   "execution_count": 35,
   "metadata": {
    "tags": []
   },
   "outputs": [
    {
     "output_type": "stream",
     "name": "stdout",
     "text": "Hi my name is parth.I am 20 years old.\n"
    }
   ],
   "source": [
    "text = \"Hi my name is Parth.I am 20 years old.\"\n",
    "regex = re.compile('parth', re.IGNORECASE)\n",
    "new_text = regex.sub('parth',text)\n",
    "print(new_text)"
   ]
  },
  {
   "source": [
    "30. Write a Python program to check a decimal with a precision of 2."
   ],
   "cell_type": "markdown",
   "metadata": {}
  },
  {
   "cell_type": "code",
   "execution_count": 36,
   "metadata": {
    "tags": []
   },
   "outputs": [
    {
     "output_type": "stream",
     "name": "stdout",
     "text": "True\nTrue\nTrue\nFalse\nFalse\n"
    }
   ],
   "source": [
    "def is_decimal(num):\n",
    "    numre = re.compile(r\"^[0-9]+(\\.[0-9]{1,2})?$\")\n",
    "    result = numre.search(num)\n",
    "    return bool(result)\n",
    "\n",
    "print(is_decimal('123.45'))\n",
    "print(is_decimal('123.4'))\n",
    "print(is_decimal('123'))\n",
    "\n",
    "print(is_decimal('773.1277'))\n",
    "print(is_decimal('7.12345678'))"
   ]
  }
 ]
}