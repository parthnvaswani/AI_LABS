{
 "metadata": {
  "language_info": {
   "codemirror_mode": {
    "name": "ipython",
    "version": 3
   },
   "file_extension": ".py",
   "mimetype": "text/x-python",
   "name": "python",
   "nbconvert_exporter": "python",
   "pygments_lexer": "ipython3",
   "version": "3.7.7-final"
  },
  "orig_nbformat": 2,
  "kernelspec": {
   "name": "python_defaultSpec_1602057313717",
   "display_name": "Python 3.7.7 64-bit",
   "metadata": {
    "interpreter": {
     "hash": "08b64dc7e9099eac269fb18b5d824c195a782a2ed4ec34aad5d0bbbc3d697e62"
    }
   }
  }
 },
 "nbformat": 4,
 "nbformat_minor": 2,
 "cells": [
  {
   "source": [
    "# FuzzyWuzzy Python library\n",
    "## Install via pip :"
   ],
   "cell_type": "markdown",
   "metadata": {}
  },
  {
   "cell_type": "code",
   "execution_count": 1,
   "metadata": {
    "tags": []
   },
   "outputs": [
    {
     "output_type": "stream",
     "name": "stdout",
     "text": "Requirement already satisfied: fuzzywuzzy in c:\\users\\public.desktop-rkcnf8k\\appdata\\local\\programs\\python\\python37\\lib\\site-packages (0.18.0)\nRequirement already satisfied: python-Levenshtein in c:\\users\\public.desktop-rkcnf8k\\appdata\\local\\programs\\python\\python37\\lib\\site-packages (0.12.0)\nRequirement already satisfied: setuptools in c:\\users\\public.desktop-rkcnf8k\\appdata\\local\\programs\\python\\python37\\lib\\site-packages (from python-Levenshtein) (41.2.0)\n"
    }
   ],
   "source": [
    "!pip install fuzzywuzzy\n",
    "\n",
    "!pip install python-Levenshtein"
   ]
  },
  {
   "source": [
    "## How to use this library ?\n",
    "\n",
    "First of import these modules,"
   ],
   "cell_type": "markdown",
   "metadata": {}
  },
  {
   "cell_type": "code",
   "execution_count": 2,
   "metadata": {},
   "outputs": [],
   "source": [
    "from fuzzywuzzy import fuzz \n",
    "from fuzzywuzzy import process"
   ]
  },
  {
   "source": [
    "Simple ratio usage :"
   ],
   "cell_type": "markdown",
   "metadata": {}
  },
  {
   "cell_type": "code",
   "execution_count": 3,
   "metadata": {
    "tags": []
   },
   "outputs": [
    {
     "output_type": "stream",
     "name": "stdout",
     "text": "87\n100\n77\n100\n64\n"
    }
   ],
   "source": [
    "print(fuzz.ratio('geeksforgeeks', 'geeksgeeks'))\n",
    "print(fuzz.ratio('GeeksforGeeks', 'GeeksforGeeks'))\n",
    "print(fuzz.ratio('geeks for geeks', 'Geeks For Geeks '))\n",
    "\n",
    "print(fuzz.partial_ratio(\"geeks for geeks\", \"geeks for geeks!\")) \n",
    "print(fuzz.partial_ratio(\"geeks for geeks\", \"geeks geeks\"))"
   ]
  },
  {
   "source": [
    "Now, token set ratio an token sort ratio:"
   ],
   "cell_type": "markdown",
   "metadata": {}
  },
  {
   "cell_type": "code",
   "execution_count": 4,
   "metadata": {
    "tags": []
   },
   "outputs": [
    {
     "output_type": "stream",
     "name": "stdout",
     "text": "100\n88\n100\n"
    }
   ],
   "source": [
    "# Token Sort Ratio \n",
    "print(fuzz.token_sort_ratio(\"geeks for geeks\", \"for geeks geeks\")) \n",
    "\n",
    "# Token Set Ratio \n",
    "print(fuzz.token_sort_ratio(\"geeks for geeks\", \"geeks for for geeks\")) \n",
    "print(fuzz.token_set_ratio(\"geeks for geeks\", \"geeks for for geeks\"))"
   ]
  },
  {
   "source": [
    "Now suppose if we have list of list of options and we want to find the closest match(es), we can use the process module"
   ],
   "cell_type": "markdown",
   "metadata": {}
  },
  {
   "cell_type": "code",
   "execution_count": 5,
   "metadata": {
    "tags": []
   },
   "outputs": [
    {
     "output_type": "stream",
     "name": "stdout",
     "text": "[(&#39;g. for geeks&#39;, 95), (&#39;geek for geek&#39;, 93), (&#39;geek geek&#39;, 86)]\n(&#39;g. for geeks&#39;, 95)\n"
    }
   ],
   "source": [
    "query = 'geeks for geeks' \n",
    "choices = ['geek for geek', 'geek geek', 'g. for geeks'] \n",
    "\n",
    "print(process.extract(query, choices)) \n",
    "print(process.extractOne(query, choices))"
   ]
  },
  {
   "source": [
    "There is also one more ratio which is used often called WRatio, sometimes its better to use WRatio instead of simple ratio as WRatio handles lower and upper cases and some other parameters too."
   ],
   "cell_type": "markdown",
   "metadata": {}
  },
  {
   "cell_type": "code",
   "execution_count": 6,
   "metadata": {
    "tags": []
   },
   "outputs": [
    {
     "output_type": "stream",
     "name": "stdout",
     "text": "100\n100\n91\n"
    }
   ],
   "source": [
    "print(fuzz.WRatio('geeks for geeks', 'Geeks For Geeks'))\n",
    "print(fuzz.WRatio('geeks for geeks!!!','geeks for geeks'))\n",
    "print(fuzz.ratio('geeks for geeks!!!','geeks for geeks'))"
   ]
  },
  {
   "source": [
    "## Full Code"
   ],
   "cell_type": "markdown",
   "metadata": {}
  },
  {
   "cell_type": "code",
   "execution_count": 7,
   "metadata": {
    "tags": []
   },
   "outputs": [
    {
     "output_type": "stream",
     "name": "stdout",
     "text": "FuzzyWuzzy Ratio:  84\nFuzzyWuzzy PartialRatio:  85\nFuzzyWuzzy TokenSortRatio:  84\nFuzzyWuzzy TokenSetRatio:  86\nFuzzyWuzzy WRatio:  84 \n\n\nList of ratios:\n[(&#39;g. for geeks&#39;, 95), (&#39;geek for geek&#39;, 93), (&#39;geek geek&#39;, 86)] \n\nBest among the above list:  (&#39;g. for geeks&#39;, 95)\n"
    }
   ],
   "source": [
    "# Python code showing all the ratios together, \n",
    "from fuzzywuzzy import fuzz \n",
    "from fuzzywuzzy import process \n",
    "s1 = \"I love GeeksforGeeks\" \n",
    "s2 = \"I am loving GeeksforGeeks\" \n",
    "print(\"FuzzyWuzzy Ratio: \", fuzz.ratio(s1, s2))\n",
    "print(\"FuzzyWuzzy PartialRatio: \", fuzz.partial_ratio(s1, s2))\n",
    "print(\"FuzzyWuzzy TokenSortRatio: \", fuzz.token_sort_ratio(s1, s2))\n",
    "print(\"FuzzyWuzzy TokenSetRatio: \", fuzz.token_set_ratio(s1, s2))\n",
    "print(\"FuzzyWuzzy WRatio: \", fuzz.WRatio(s1, s2),'\\n\\n')\n",
    "# for process library, \n",
    "query = 'geeks for geeks' \n",
    "choices = ['geek for geek', 'geek geek', 'g. for geeks'] \n",
    "print(\"List of ratios:\")\n",
    "print(process.extract(query, choices), '\\n')\n",
    "print(\"Best among the above list: \",process.extractOne(query, choices))"
   ]
  },
  {
   "source": [
    "Let's start simple. FuzzyWuzzy has, just like the Levenshtein package, a ratio function that computes the standard Levenshtein distance similarity ratio between two sequences. You can see an example below:"
   ],
   "cell_type": "markdown",
   "metadata": {}
  },
  {
   "cell_type": "code",
   "execution_count": 8,
   "metadata": {
    "tags": []
   },
   "outputs": [
    {
     "output_type": "stream",
     "name": "stdout",
     "text": "95\n"
    }
   ],
   "source": [
    "from fuzzywuzzy import fuzz\n",
    "\n",
    "Str1 = \"Apple Inc.\"\n",
    "\n",
    "Str2 = \"apple Inc\"\n",
    "\n",
    "Ratio = fuzz.ratio(Str1.lower(),Str2.lower())\n",
    "\n",
    "print(Ratio)"
   ]
  },
  {
   "source": [
    "That ratio of similarity is the same as we expected given the other examples above. However, fuzzywuzzy has more powerful functions that allow us to deal with more complex situations such as substring matching. Here is an example:"
   ],
   "cell_type": "markdown",
   "metadata": {}
  },
  {
   "cell_type": "code",
   "execution_count": 9,
   "metadata": {
    "tags": []
   },
   "outputs": [
    {
     "output_type": "stream",
     "name": "stdout",
     "text": "50\n100\n"
    }
   ],
   "source": [
    "Str1 = \"Los Angeles Lakers\"\n",
    "\n",
    "Str2 = \"Lakers\"\n",
    "\n",
    "Ratio = fuzz.ratio(Str1.lower(),Str2.lower())\n",
    "\n",
    "Partial_Ratio = fuzz.partial_ratio(Str1.lower(),Str2.lower())\n",
    "\n",
    "print(Ratio)\n",
    "\n",
    "print(Partial_Ratio)"
   ]
  },
  {
   "source": [
    "fuzz.partial_ratio() is capable of detecting that both strings are referring to the Lakers. Thus, it yields 100% similarity. The way this works is by using an \"optimal partial\" logic. In other words, if the short string has length kk and the longer string has the length mm, then the algorithm seeks the score of the best matching length-kk substring.\n",
    "\n",
    "Nevertheless, this approach is not foolproof. What happens when the strings comparison the same, but they are in a different order? Luckily for us, fuzzywuzzy has a solution. You can see the example below:"
   ],
   "cell_type": "markdown",
   "metadata": {}
  },
  {
   "cell_type": "code",
   "execution_count": 10,
   "metadata": {
    "tags": []
   },
   "outputs": [
    {
     "output_type": "stream",
     "name": "stdout",
     "text": "59\n74\n100\n"
    }
   ],
   "source": [
    "Str1 = \"united states v. nixon\"\n",
    "\n",
    "Str2 = \"Nixon v. United States\"\n",
    "\n",
    "Ratio = fuzz.ratio(Str1.lower(),Str2.lower())\n",
    "\n",
    "Partial_Ratio = fuzz.partial_ratio(Str1.lower(),Str2.lower())\n",
    "\n",
    "Token_Sort_Ratio = fuzz.token_sort_ratio(Str1,Str2)\n",
    "\n",
    "print(Ratio)\n",
    "\n",
    "print(Partial_Ratio)\n",
    "\n",
    "print(Token_Sort_Ratio)"
   ]
  },
  {
   "source": [
    "The fuzz.token functions have an important advantage over ratio and partial_ratio. They tokenize the strings and preprocess them by turning them to lower case and getting rid of punctuation. In the case of fuzz.token_sort_ratio(), the string tokens get sorted alphabetically and then joined together. After that, a simple fuzz.ratio() is applied to obtain the similarity percentage. This allows cases such as court cases in this example to be marked as being the same.\n",
    "\n",
    "Still, what happens if these two strings are of widely differing lengths? Thats where fuzz.token_set_ratio() comes in. Here is an example:"
   ],
   "cell_type": "markdown",
   "metadata": {}
  },
  {
   "cell_type": "code",
   "execution_count": 11,
   "metadata": {
    "tags": []
   },
   "outputs": [
    {
     "output_type": "stream",
     "name": "stdout",
     "text": "57\n77\n58\n95\n"
    }
   ],
   "source": [
    "Str1 = \"The supreme court case of Nixon vs The United States\"\n",
    "\n",
    "Str2 = \"Nixon v. United States\"\n",
    "\n",
    "Ratio = fuzz.ratio(Str1.lower(),Str2.lower())\n",
    "\n",
    "Partial_Ratio = fuzz.partial_ratio(Str1.lower(),Str2.lower())\n",
    "\n",
    "Token_Sort_Ratio = fuzz.token_sort_ratio(Str1,Str2)\n",
    "\n",
    "Token_Set_Ratio = fuzz.token_set_ratio(Str1,Str2)\n",
    "\n",
    "print(Ratio)\n",
    "\n",
    "print(Partial_Ratio)\n",
    "\n",
    "print(Token_Sort_Ratio)\n",
    "\n",
    "print(Token_Set_Ratio)"
   ]
  },
  {
   "source": [
    "Finally, the fuzzywuzzy package has a module called process that allows you to calculate the string with the highest similarity out of a vector of strings. You can see how this works below:"
   ],
   "cell_type": "markdown",
   "metadata": {}
  },
  {
   "cell_type": "code",
   "execution_count": 12,
   "metadata": {
    "tags": []
   },
   "outputs": [
    {
     "output_type": "stream",
     "name": "stdout",
     "text": "[(&#39;Apple Inc.&#39;, 100), (&#39;apple incorporated&#39;, 90), (&#39;apple park&#39;, 67), (&#39;iphone&#39;, 30)]\n(&#39;Apple Inc.&#39;, 100)\n"
    },
    {
     "output_type": "execute_result",
     "data": {
      "text/plain": "(&#39;Apple Inc.&#39;, 100)"
     },
     "metadata": {},
     "execution_count": 12
    }
   ],
   "source": [
    "from fuzzywuzzy import process\n",
    "\n",
    "str2Match = \"apple inc\"\n",
    "\n",
    "strOptions = [\"Apple Inc.\",\"apple park\",\"apple incorporated\",\"iphone\"]\n",
    "\n",
    "Ratios = process.extract(str2Match,strOptions)\n",
    "\n",
    "print(Ratios)\n",
    "\n",
    "# You can also select the string with the highest matching percentage\n",
    "\n",
    "highest = process.extractOne(str2Match,strOptions)\n",
    "\n",
    "print(highest)\n",
    "\n",
    "[('Apple Inc.', 100), ('apple incorporated', 90), ('apple park', 67), ('iphone', 30)]\n",
    "\n",
    "('Apple Inc.', 100)"
   ]
  }
 ]
}