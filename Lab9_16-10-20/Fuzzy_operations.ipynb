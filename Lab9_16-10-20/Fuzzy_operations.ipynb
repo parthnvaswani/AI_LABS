{
 "metadata": {
  "language_info": {
   "codemirror_mode": {
    "name": "ipython",
    "version": 3
   },
   "file_extension": ".py",
   "mimetype": "text/x-python",
   "name": "python",
   "nbconvert_exporter": "python",
   "pygments_lexer": "ipython3",
   "version": "3.7.7-final"
  },
  "orig_nbformat": 2,
  "kernelspec": {
   "name": "Python 3.7.7 64-bit",
   "display_name": "Python 3.7.7 64-bit",
   "metadata": {
    "interpreter": {
     "hash": "6e9315986890c531f0a37be85a8a5af70f7a2063e896bb1c61fa0e67cf64246b"
    }
   }
  }
 },
 "nbformat": 4,
 "nbformat_minor": 2,
 "cells": [
  {
   "cell_type": "code",
   "execution_count": 1,
   "metadata": {},
   "outputs": [
    {
     "output_type": "stream",
     "name": "stdout",
     "text": [
      "first fuzzy set is {0: 0, 20: 0.5, 40: 0.65, 60: 0.85, 80: 1, 100: 1}\nsecond fuzzy set is {0: 0, 20: 0.35, 40: 0.5, 60: 0.75, 80: 0.9, 100: 1}\n"
     ]
    }
   ],
   "source": [
    "Sensor1={0:0,20:0.5,40:0.65,60:0.85,80:1,100:1}\n",
    "Sensor2={0:0,20:0.35,40:0.5,60:0.75,80:0.90,100:1}\n",
    "\n",
    "print(f\"first fuzzy set is {Sensor1}\")\n",
    "print(f\"second fuzzy set is {Sensor2}\")"
   ]
  },
  {
   "cell_type": "code",
   "execution_count": 2,
   "metadata": {},
   "outputs": [
    {
     "output_type": "stream",
     "name": "stdout",
     "text": [
      "Complement of first Fuzzy Set is : {0: 1, 20: 0.5, 40: 0.35, 60: 0.15000000000000002, 80: 0, 100: 0}\nComplement of first Fuzzy Set is : {0: 1, 20: 0.65, 40: 0.5, 60: 0.25, 80: 0.09999999999999998, 100: 0}\n"
     ]
    }
   ],
   "source": [
    "Complement_Sensor1={}\n",
    "#Complement of first fuzzy set\n",
    "#degree_of_membership(Complement_Sensor1)= 1 - degree_of_membership(Sensor1) \n",
    "for key in Sensor1:\n",
    "    Complement_Sensor1[key]= 1-Sensor1[key]  \n",
    "\n",
    "print('Complement of first Fuzzy Set is :', Complement_Sensor1)  \n",
    "\n",
    "Complement_Sensor2={}\n",
    "#Complement of second fuzzy set\n",
    "#degree_of_membership(Complement_Sensor2)= 1 - degree_of_membership(Sensor2) \n",
    "for key in Sensor2:\n",
    "    Complement_Sensor2[key]= 1-Sensor2[key]  \n",
    "\n",
    "print('Complement of first Fuzzy Set is :', Complement_Sensor2)  "
   ]
  },
  {
   "cell_type": "code",
   "execution_count": 3,
   "metadata": {},
   "outputs": [
    {
     "output_type": "stream",
     "name": "stdout",
     "text": [
      "Fuzzy Set Union is : {0: 0, 20: 0.5, 40: 0.65, 60: 0.85, 80: 1, 100: 1}\n"
     ]
    }
   ],
   "source": [
    "Union={}\n",
    "#Union\n",
    "#degree_of_membership(Union)= max(degree_of_membership(Sensor1), degree_of_membership(Sensor2))  \n",
    "for key1, key2 in zip(Sensor1, Sensor2):\n",
    "    value1 = Sensor1[key1]\n",
    "    value2 = Sensor2[key2]\n",
    "    if value1 > value2:\n",
    "        Union[key1] = value1\n",
    "    else:\n",
    "        Union[key2] = value2  \n",
    "\n",
    "print('Fuzzy Set Union is :', Union)"
   ]
  },
  {
   "cell_type": "code",
   "execution_count": 4,
   "metadata": {},
   "outputs": [
    {
     "output_type": "stream",
     "name": "stdout",
     "text": [
      "Fuzzy Set Intersection is : {0: 0, 20: 0.35, 40: 0.5, 60: 0.75, 80: 0.9, 100: 1}\n"
     ]
    }
   ],
   "source": [
    "Intersection={}\n",
    "#Intersection\n",
    "#degree_of_membership(Intersection)= min(degree_of_membership(Sensor1), degree_of_membership(Sensor2)) \n",
    "for key1, key2 in zip(Sensor1, Sensor2):\n",
    "    value1 = Sensor1[key1]\n",
    "    value2 = Sensor2[key2]\n",
    "    if value1 < value2:\n",
    "        Intersection[key1] = value1\n",
    "    else:\n",
    "        Intersection[key2] = value2  \n",
    "\n",
    "print('Fuzzy Set Intersection is :', Intersection)  "
   ]
  },
  {
   "cell_type": "code",
   "execution_count": 5,
   "metadata": {},
   "outputs": [
    {
     "output_type": "stream",
     "name": "stdout",
     "text": [
      "Fuzzy Set Difference is : {0: 0, 20: 0.5, 40: 0.5, 60: 0.25, 80: 0.09999999999999998, 100: 0}\n"
     ]
    }
   ],
   "source": [
    "Difference={}\n",
    "#Difference\n",
    "#degree_of_membership(Difference)= min(degree_of_membership(Sensor1), 1- degree_of_membership(Sensor2))  \n",
    "for key1, key2 in zip(Sensor1, Sensor2):\n",
    "    value1 = Sensor1[key1]\n",
    "    value2 = Sensor2[key2]\n",
    "    value2 = 1 - value2\n",
    "    if value1 < value2:\n",
    "        Difference[key1] = value1\n",
    "    else:\n",
    "        Difference[key2] = value2  \n",
    "\n",
    "print('Fuzzy Set Difference is :', Difference) "
   ]
  },
  {
   "cell_type": "code",
   "execution_count": 6,
   "metadata": {},
   "outputs": [
    {
     "output_type": "stream",
     "name": "stdout",
     "text": [
      "Complement of union Set is : {0: 1, 20: 0.5, 40: 0.35, 60: 0.15000000000000002, 80: 0, 100: 0}\nIntersection of complements is : {0: 1, 20: 0.5, 40: 0.35, 60: 0.15000000000000002, 80: 0, 100: 0}\n"
     ]
    }
   ],
   "source": [
    "deMorgans={}\n",
    "#de Morgans’ law\n",
    "#(A∪B)'=A'∩B'\n",
    "#1-degree_of_membership(Union)=min(degree_of_membership(Complement_Sensor1),degree_of_membership(Complement_Sensor2))\n",
    "\n",
    "#1-degree_of_membership(Union)\n",
    "Complement_Union={}\n",
    "for key in Union:\n",
    "    Complement_Union[key]= 1-Union[key]  \n",
    "\n",
    "print('Complement of union Set is :', Complement_Union) \n",
    "\n",
    "#min(degree_of_membership(Complement_Sensor1),degree_of_membership(Complement_Sensor2))\n",
    "InterSection_Complements={}\n",
    "for key1, key2 in zip(Complement_Sensor1, Complement_Sensor2):\n",
    "    value1 = Complement_Sensor1[key1]\n",
    "    value2 = Complement_Sensor2[key2]\n",
    "    if value1 < value2:\n",
    "        InterSection_Complements[key1] = value1\n",
    "    else:\n",
    "        InterSection_Complements[key2] = value2 \n",
    "\n",
    "print('Intersection of complements is :', InterSection_Complements) "
   ]
  }
 ]
}